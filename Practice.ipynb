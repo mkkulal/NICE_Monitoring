{
 "cells": [],
 "metadata": {
  "kernelspec": {
   "display_name": "Python 3.9.12 ('base')",
   "language": "python",
   "name": "python3"
  },
  "language_info": {
   "codemirror_mode": {
    "name": "ipython",
    "version": 3
   },
   "file_extension": ".py",
   "mimetype": "text/x-python",
   "name": "python",
   "nbconvert_exporter": "python",
   "pygments_lexer": "ipython3",
   "version": "3.9.12"
  },
  "vscode": {
   "interpreter": {
    "hash": "35710ca69cfc0075bb15ca31880e9d7297d327ead5eea36868dce2ae610668e8"
   }
  }
 },
 "nbformat": 4,
 "nbformat_minor": 5
}
