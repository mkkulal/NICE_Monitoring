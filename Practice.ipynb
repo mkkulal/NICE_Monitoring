{
 "cells": [
  {
   "cell_type": "code",
   "execution_count": 1,
   "id": "fcf13ecd",
   "metadata": {},
   "outputs": [
    {
     "name": "stdout",
     "output_type": "stream",
     "text": [
      "Hello World\n"
     ]
    }
   ],
   "source": [
    "print(\"Hello World\")"
   ]
  },
  {
   "cell_type": "code",
   "execution_count": 2,
   "id": "82ca4f06",
   "metadata": {},
   "outputs": [
    {
     "data": {
      "text/plain": [
       "int"
      ]
     },
     "execution_count": 2,
     "metadata": {},
     "output_type": "execute_result"
    }
   ],
   "source": [
    "type(123)"
   ]
  },
  {
   "cell_type": "code",
   "execution_count": 4,
   "id": "586c378d",
   "metadata": {},
   "outputs": [
    {
     "name": "stdout",
     "output_type": "stream",
     "text": [
      "7\n"
     ]
    }
   ],
   "source": [
    "print(2+3+2)"
   ]
  },
  {
   "cell_type": "code",
   "execution_count": 5,
   "id": "af726e49",
   "metadata": {},
   "outputs": [],
   "source": [
    "a=10"
   ]
  },
  {
   "cell_type": "code",
   "execution_count": 8,
   "id": "317bc388",
   "metadata": {},
   "outputs": [
    {
     "name": "stdout",
     "output_type": "stream",
     "text": [
      "9\n"
     ]
    }
   ],
   "source": [
    "print(a)"
   ]
  },
  {
   "cell_type": "code",
   "execution_count": 7,
   "id": "23b4eea3",
   "metadata": {},
   "outputs": [],
   "source": [
    "a-=1"
   ]
  },
  {
   "cell_type": "code",
   "execution_count": 9,
   "id": "dfc3c40f",
   "metadata": {},
   "outputs": [],
   "source": [
    "lista = [1,2,3,4,5]"
   ]
  },
  {
   "cell_type": "code",
   "execution_count": 10,
   "id": "e2c82164",
   "metadata": {},
   "outputs": [
    {
     "name": "stdout",
     "output_type": "stream",
     "text": [
      "[1, 2, 3, 4, 5]\n"
     ]
    }
   ],
   "source": [
    "print(lista)"
   ]
  },
  {
   "cell_type": "code",
   "execution_count": 11,
   "id": "f69983be",
   "metadata": {},
   "outputs": [
    {
     "data": {
      "text/plain": [
       "list"
      ]
     },
     "execution_count": 11,
     "metadata": {},
     "output_type": "execute_result"
    }
   ],
   "source": [
    "type(lista)"
   ]
  },
  {
   "cell_type": "code",
   "execution_count": 12,
   "id": "1ec46ba5",
   "metadata": {},
   "outputs": [
    {
     "name": "stdout",
     "output_type": "stream",
     "text": [
      "3\n"
     ]
    }
   ],
   "source": [
    "print(lista[2])"
   ]
  },
  {
   "cell_type": "code",
   "execution_count": 13,
   "id": "294537b4",
   "metadata": {},
   "outputs": [],
   "source": [
    "lista[1]=10"
   ]
  },
  {
   "cell_type": "code",
   "execution_count": 15,
   "id": "e0cfe41f",
   "metadata": {},
   "outputs": [
    {
     "name": "stdout",
     "output_type": "stream",
     "text": [
      "10\n"
     ]
    }
   ],
   "source": [
    "print(lista[1])"
   ]
  },
  {
   "cell_type": "code",
   "execution_count": 19,
   "id": "f37c6a29",
   "metadata": {},
   "outputs": [],
   "source": [
    "listb=[True,\"start\",50,333.3]"
   ]
  },
  {
   "cell_type": "code",
   "execution_count": 24,
   "id": "396032a2",
   "metadata": {},
   "outputs": [
    {
     "data": {
      "text/plain": [
       "tuple"
      ]
     },
     "execution_count": 24,
     "metadata": {},
     "output_type": "execute_result"
    }
   ],
   "source": [
    "child1_brth = (\"Julia\", \"Pune Hsptl\", \"Pune\", \"MH\", \"India\", \"16/11/2022\",\"09:42\")\n",
    "child2_brth = (\"Mark\", \"Ruby Hsptl\", \"Pune\", \"MH\", \"India\", \"17/12/2022\",\"10:15\")\n",
    "\n",
    "type(child1_brth)\n",
    "print(child1_brth)"
   ]
  },
  {
   "cell_type": "code",
   "execution_count": 25,
   "id": "12354d5f",
   "metadata": {},
   "outputs": [
    {
     "name": "stdout",
     "output_type": "stream",
     "text": [
      "Julia\n"
     ]
    }
   ],
   "source": [
    "print(child1_brth[0])"
   ]
  },
  {
   "cell_type": "code",
   "execution_count": 26,
   "id": "d2def7bf",
   "metadata": {},
   "outputs": [
    {
     "ename": "TypeError",
     "evalue": "'tuple' object does not support item assignment",
     "output_type": "error",
     "traceback": [
      "\u001b[1;31m---------------------------------------------------------------------------\u001b[0m",
      "\u001b[1;31mTypeError\u001b[0m                                 Traceback (most recent call last)",
      "Input \u001b[1;32mIn [26]\u001b[0m, in \u001b[0;36m<cell line: 1>\u001b[1;34m()\u001b[0m\n\u001b[1;32m----> 1\u001b[0m child1_brth[\u001b[38;5;241m0\u001b[39m]\u001b[38;5;241m=\u001b[39m\u001b[38;5;124m\"\u001b[39m\u001b[38;5;124mMithun\u001b[39m\u001b[38;5;124m\"\u001b[39m\n",
      "\u001b[1;31mTypeError\u001b[0m: 'tuple' object does not support item assignment"
     ]
    }
   ],
   "source": [
    "child1_brth[0]=\"Mithun\""
   ]
  },
  {
   "cell_type": "code",
   "execution_count": 28,
   "id": "fd99d7c3",
   "metadata": {},
   "outputs": [
    {
     "name": "stdout",
     "output_type": "stream",
     "text": [
      "Is is raining? (yes/no) :yes\n",
      "You need an umbrella\n"
     ]
    }
   ],
   "source": [
    "raining = input(\"Is is raining? (yes/no) :\" )\n",
    "if raining == \"yes\" :\n",
    "    print (\"You need an umbrella\")"
   ]
  },
  {
   "cell_type": "code",
   "execution_count": 33,
   "id": "65b551b7",
   "metadata": {},
   "outputs": [
    {
     "name": "stdout",
     "output_type": "stream",
     "text": [
      "12.1\n"
     ]
    }
   ],
   "source": [
    "\n",
    "def minimum(x,y):\n",
    "    if x < y:\n",
    "        return x\n",
    "    else:\n",
    "        return y\n",
    "\n",
    "result = minimum(12.3,12.1)\n",
    "print (result)"
   ]
  },
  {
   "cell_type": "code",
   "execution_count": 35,
   "id": "c8d7c180",
   "metadata": {},
   "outputs": [
    {
     "name": "stdout",
     "output_type": "stream",
     "text": [
      "Is is raining? (yes/no) :yes\n",
      "Do you have umbrella? (yes/no) :yes\n",
      "Don't forget your Umbrella when you step out\n"
     ]
    }
   ],
   "source": [
    "raining = input(\"Is is raining? (yes/no) :\" )\n",
    "umbrella = input(\"Do you have umbrella? (yes/no) :\" )\n",
    "if raining == \"yes\" and umbrella == \"yes\":\n",
    "    print (\"Don't forget your Umbrella when you step out\")\n",
    "elif raining == \"yes\" and umbrella == \"no\":\n",
    "    print (\"wear a Jacket\")\n"
   ]
  },
  {
   "cell_type": "code",
   "execution_count": 40,
   "id": "f7d61147",
   "metadata": {},
   "outputs": [
    {
     "name": "stdout",
     "output_type": "stream",
     "text": [
      "Enter number:20\n",
      "None\n"
     ]
    }
   ],
   "source": [
    "x = input(\"Enter number:\")\n",
    "x = float(x)\n",
    "if x < 2:\n",
    "    print (\"THe nuber less than 2\")\n",
    "elif x < 6:\n",
    "    print (\"THe nuber less than 6\")\n",
    "elif x < 8:\n",
    "    print (\"THe nuber less than 8\")\n",
    "else:\n",
    "    print(\"None\")"
   ]
  },
  {
   "cell_type": "code",
   "execution_count": 45,
   "id": "47f174a2",
   "metadata": {},
   "outputs": [
    {
     "name": "stdout",
     "output_type": "stream",
     "text": [
      "7.84\n"
     ]
    }
   ],
   "source": [
    "def abs_val(num):\n",
    "    if num < 0:\n",
    "        return -num\n",
    "    elif num == 0:\n",
    "        return num\n",
    "    else:\n",
    "        return num\n",
    "result = abs_val(7.84)\n",
    "print (result)"
   ]
  },
  {
   "cell_type": "code",
   "execution_count": 49,
   "id": "748674fd",
   "metadata": {},
   "outputs": [
    {
     "name": "stdout",
     "output_type": "stream",
     "text": [
      "0\n",
      "1\n",
      "2\n",
      "3\n"
     ]
    }
   ],
   "source": [
    "for i in range(4):\n",
    "    print(i)"
   ]
  },
  {
   "cell_type": "code",
   "execution_count": 54,
   "id": "f54c2b0a",
   "metadata": {},
   "outputs": [
    {
     "name": "stdout",
     "output_type": "stream",
     "text": [
      "0\n",
      "5\n",
      "10\n",
      "15\n",
      "20\n",
      "25\n",
      "30\n",
      "35\n",
      "40\n",
      "45\n",
      "50\n",
      "55\n",
      "60\n",
      "65\n",
      "70\n",
      "75\n",
      "80\n",
      "85\n",
      "90\n",
      "95\n"
     ]
    }
   ],
   "source": [
    "for i in range(0,100,5):\n",
    "    print(i)"
   ]
  },
  {
   "cell_type": "code",
   "execution_count": 56,
   "id": "0f65255c",
   "metadata": {},
   "outputs": [
    {
     "name": "stdout",
     "output_type": "stream",
     "text": [
      "16\n"
     ]
    }
   ],
   "source": [
    "word = \"hhfdguhsgdfioghoiwetquiyuqpwroq[uteqwyruiqweprufgsgsdfg\"\n",
    "vowels = ['a', 'e', 'i', 'o', 'u']\n",
    "vowelscount = 0\n",
    "for i in word:\n",
    "    if i in vowels:\n",
    "        vowelscount+=1\n",
    "print(vowelscount)"
   ]
  },
  {
   "cell_type": "code",
   "execution_count": null,
   "id": "050a245f",
   "metadata": {},
   "outputs": [],
   "source": []
  }
 ],
 "metadata": {
  "kernelspec": {
   "display_name": "Python 3 (ipykernel)",
   "language": "python",
   "name": "python3"
  },
  "language_info": {
   "codemirror_mode": {
    "name": "ipython",
    "version": 3
   },
   "file_extension": ".py",
   "mimetype": "text/x-python",
   "name": "python",
   "nbconvert_exporter": "python",
   "pygments_lexer": "ipython3",
   "version": "3.9.12"
  }
 },
 "nbformat": 4,
 "nbformat_minor": 5
}
